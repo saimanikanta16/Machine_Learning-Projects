{
 "cells": [
  {
   "cell_type": "markdown",
   "id": "2dac77a4-582f-4ffd-84ee-299aa39f7678",
   "metadata": {},
   "source": [
    "## Required Modules"
   ]
  },
  {
   "cell_type": "code",
   "execution_count": 1,
   "id": "cb006951-2b11-41e0-8c7d-5a66038523ed",
   "metadata": {},
   "outputs": [],
   "source": [
    "import numpy as np\n",
    "import pandas as pd\n",
    "import matplotlib.pyplot as plt\n",
    "import sklearn\n",
    "import os\n",
    "import datetime\n",
    "import cv2"
   ]
  },
  {
   "cell_type": "markdown",
   "id": "522cc972-6e43-4aab-9188-dac34dd4bdba",
   "metadata": {},
   "source": [
    "## Image Data Collection"
   ]
  },
  {
   "cell_type": "code",
   "execution_count": 14,
   "id": "9f98455f-0b50-44cd-a068-d0f8adc78a79",
   "metadata": {
    "scrolled": true
   },
   "outputs": [],
   "source": [
    "vid = cv2.VideoCapture(0)\n",
    "c=0\n",
    "while True:\n",
    "    bool,img=vid.read()\n",
    "    \n",
    "    #print(img.shape)\n",
    "    cv2.rectangle(img,(260,150),(450,350),(0,0,255),1)\n",
    "    crop_img = img[150:350,260:450]\n",
    "    \n",
    "    #cv2.imshow(\"capture\",img)\n",
    "    cv2.imshow(\"show\",img)\n",
    "    cv2.imwrite(r\"D:\\ML Files\\sai_room\\aditya\\aditya{}.jpg\".format(c),crop_img)\n",
    "    c+=1\n",
    "    if cv2.waitKey(15)& 255 == ord('q'):\n",
    "        break\n",
    "    if c==200:\n",
    "        break\n",
    "cv2.destroyAllWindows()\n",
    "    "
   ]
  },
  {
   "cell_type": "markdown",
   "id": "991bfddd-a99b-4b6c-8d74-a2c10f483f53",
   "metadata": {},
   "source": [
    "## Reading Data from localhost"
   ]
  },
  {
   "cell_type": "code",
   "execution_count": 15,
   "id": "f38db00e-3dfb-4f74-851e-cd77379ba6bf",
   "metadata": {},
   "outputs": [],
   "source": [
    "features = []\n",
    "class_label = []\n",
    "for files in os.listdir(r\"D:\\ML Files\\sai_room\"):\n",
    "    \n",
    "    for img in os.listdir(r\"D:\\ML Files\\sai_room\\{}\".format(files)):\n",
    "        images=cv2.imread(r\"D:\\ML Files\\sai_room\\{}\\{}\".format(files,img))\n",
    "        features.append(cv2.resize(images,(100,100)).flatten())\n",
    "        class_label.append(files)"
   ]
  },
  {
   "cell_type": "code",
   "execution_count": 16,
   "id": "5cc52877-cc73-4ff5-a631-c505bb525e03",
   "metadata": {},
   "outputs": [
    {
     "data": {
      "text/plain": [
       "600"
      ]
     },
     "execution_count": 16,
     "metadata": {},
     "output_type": "execute_result"
    }
   ],
   "source": [
    "len(features)"
   ]
  },
  {
   "cell_type": "code",
   "execution_count": 17,
   "id": "330a0335-75a0-467f-88bb-3f5f68eb37a7",
   "metadata": {},
   "outputs": [],
   "source": [
    "data = np.array(features)"
   ]
  },
  {
   "cell_type": "code",
   "execution_count": 18,
   "id": "d8dfbd40-7a6c-409c-bc3e-fbd816c687b6",
   "metadata": {},
   "outputs": [],
   "source": [
    "a1 = pd.DataFrame(data)"
   ]
  },
  {
   "cell_type": "markdown",
   "id": "9b7a9a7d-7483-471b-ad20-c0e4ae7aa04b",
   "metadata": {},
   "source": [
    "## Converting Class labels to Binary Format"
   ]
  },
  {
   "cell_type": "code",
   "execution_count": 19,
   "id": "3ab954a7-842d-4344-ba60-62d029e31d8a",
   "metadata": {},
   "outputs": [
    {
     "name": "stdout",
     "output_type": "stream",
     "text": [
      "Mapping: {'aditya': 0, 'nikhil': 1, 'sai': 2}\n"
     ]
    }
   ],
   "source": [
    "from sklearn.preprocessing import LabelEncoder\n",
    "\n",
    "\n",
    "# Initialize and fit LabelEncoder\n",
    "label_encoder = LabelEncoder()\n",
    "numerical_labels = label_encoder.fit_transform(class_label)\n",
    "\n",
    "\n",
    "# To see the mapping:\n",
    "print(\"Mapping:\", dict(zip(label_encoder.classes_, range(len(label_encoder.classes_)))))\n"
   ]
  },
  {
   "cell_type": "markdown",
   "id": "48487b77-70ce-4b83-ad58-3c9d4ae7faff",
   "metadata": {},
   "source": [
    "## Splitting Data"
   ]
  },
  {
   "cell_type": "code",
   "execution_count": 20,
   "id": "7bb817cf-28ac-4227-bf5f-eae0bd675022",
   "metadata": {},
   "outputs": [],
   "source": [
    "from sklearn.model_selection import train_test_split"
   ]
  },
  {
   "cell_type": "code",
   "execution_count": 21,
   "id": "47365364-a873-4713-a9d7-c611c0f535f8",
   "metadata": {},
   "outputs": [],
   "source": [
    "x_train,x_test,y_train,y_test = train_test_split(features,numerical_labels,test_size=0.15,stratify = numerical_labels)"
   ]
  },
  {
   "cell_type": "code",
   "execution_count": 22,
   "id": "4c7e38c6-df4e-4394-a8f7-05c2caf94617",
   "metadata": {},
   "outputs": [],
   "source": [
    "xf_train,x_cv,yf_train,y_cv = train_test_split(x_train,y_train,test_size=0.15,stratify = y_train)"
   ]
  },
  {
   "cell_type": "markdown",
   "id": "aa5c4608-4a49-43cd-b272-1f9f1119a031",
   "metadata": {},
   "source": [
    "## Scaling Techinque"
   ]
  },
  {
   "cell_type": "code",
   "execution_count": 49,
   "id": "6355cdf8-22b0-4a00-bd33-b1d4ae43fa64",
   "metadata": {},
   "outputs": [],
   "source": [
    "from sklearn.preprocessing import MinMaxScaler,StandardScaler"
   ]
  },
  {
   "cell_type": "code",
   "execution_count": 50,
   "id": "8379d60b-47b5-43f8-9c69-36cbc93ce5e6",
   "metadata": {},
   "outputs": [],
   "source": [
    "std = MinMaxScaler()\n",
    "\n",
    "n_xf_train = std.fit_transform(xf_train)\n",
    "\n",
    "n_xf_test = std.transform(x_test)\n",
    "\n",
    "n_xf_cv = std.transform(x_cv)"
   ]
  },
  {
   "cell_type": "code",
   "execution_count": 23,
   "id": "5156f830-e2c1-4173-b602-d77d1529d429",
   "metadata": {},
   "outputs": [],
   "source": [
    "from sklearn.neighbors import KNeighborsClassifier"
   ]
  },
  {
   "cell_type": "markdown",
   "id": "94528561-7f80-4b39-abfa-c89a068f9a1d",
   "metadata": {},
   "source": [
    "### without normalization"
   ]
  },
  {
   "cell_type": "code",
   "execution_count": 35,
   "id": "85921241-7fbe-449b-bb85-3e9ccf8b902e",
   "metadata": {},
   "outputs": [],
   "source": [
    "knn = KNeighborsClassifier(n_neighbors=21)\n",
    "model = knn.fit(xf_train,yf_train)"
   ]
  },
  {
   "cell_type": "markdown",
   "id": "9ceaf366-a70d-4d27-958e-14776c6c601b",
   "metadata": {},
   "source": [
    "### with normalization"
   ]
  },
  {
   "cell_type": "code",
   "execution_count": 52,
   "id": "cf9a3189-b9f8-4e07-b852-04594c26cb8e",
   "metadata": {},
   "outputs": [],
   "source": [
    "knn = KNeighborsClassifier(n_neighbors=59)\n",
    "model = knn.fit(n_xf_train,yf_train)"
   ]
  },
  {
   "cell_type": "markdown",
   "id": "680f49ed-5792-497e-aab1-ea422031acd6",
   "metadata": {},
   "source": [
    "## Prediction on Cross-Validation data"
   ]
  },
  {
   "cell_type": "code",
   "execution_count": 36,
   "id": "38f26a4f-ba38-4aab-90c0-8432c50038f0",
   "metadata": {},
   "outputs": [],
   "source": [
    "predicted_cv = model.predict(x_cv)"
   ]
  },
  {
   "cell_type": "code",
   "execution_count": 37,
   "id": "60ff1f05-7a2c-4308-ba9f-6bf8bb563161",
   "metadata": {},
   "outputs": [],
   "source": [
    "from sklearn.metrics import accuracy_score"
   ]
  },
  {
   "cell_type": "code",
   "execution_count": 38,
   "id": "a784969c-68ed-4070-8d6a-96c009db4ef9",
   "metadata": {},
   "outputs": [
    {
     "data": {
      "text/plain": [
       "100.0"
      ]
     },
     "execution_count": 38,
     "metadata": {},
     "output_type": "execute_result"
    }
   ],
   "source": [
    "accuracy_score(y_cv,predicted_cv)*100"
   ]
  },
  {
   "cell_type": "markdown",
   "id": "dc03439d-d16f-4539-ba50-08f2313b8b1f",
   "metadata": {},
   "source": [
    "## Prediction on Unseen Data"
   ]
  },
  {
   "cell_type": "code",
   "execution_count": 39,
   "id": "15e13907-b324-4559-88e1-bd15f425d106",
   "metadata": {},
   "outputs": [],
   "source": [
    "predicted_test = model.predict(x_test)"
   ]
  },
  {
   "cell_type": "code",
   "execution_count": 40,
   "id": "66e5357a-e62f-4a07-82bf-3c862b4d2d80",
   "metadata": {},
   "outputs": [
    {
     "data": {
      "text/plain": [
       "100.0"
      ]
     },
     "execution_count": 40,
     "metadata": {},
     "output_type": "execute_result"
    }
   ],
   "source": [
    "accuracy_score(y_test,predicted_test)*100"
   ]
  },
  {
   "cell_type": "code",
   "execution_count": 30,
   "id": "62d31253-5e2f-48dd-afbc-225f8cce6a1e",
   "metadata": {},
   "outputs": [
    {
     "data": {
      "text/plain": [
       "433"
      ]
     },
     "execution_count": 30,
     "metadata": {},
     "output_type": "execute_result"
    }
   ],
   "source": [
    "len(xf_train)"
   ]
  },
  {
   "cell_type": "markdown",
   "id": "357fdbcb-c478-4c32-bad6-6c3e58a69f42",
   "metadata": {},
   "source": [
    "## Plot Between Training and CV Error"
   ]
  },
  {
   "cell_type": "code",
   "execution_count": 33,
   "id": "2c2b0a4d-583a-40f9-89f0-b3d069aa695f",
   "metadata": {},
   "outputs": [],
   "source": [
    "tr_err = []\n",
    "cv_err = []\n",
    "for k in range(1,433,2):\n",
    "    knn = KNeighborsClassifier(n_neighbors = k)\n",
    "    model = knn.fit(xf_train,yf_train)\n",
    "\n",
    "\n",
    "    # Training error\n",
    "    predicted_cl = model.predict(xf_train)\n",
    "    tr_err.append(1-accuracy_score(yf_train,predicted_cl))\n",
    "\n",
    "    # Cv_error\n",
    "    predicted_cl = model.predict(x_cv)\n",
    "    cv_err.append(1-accuracy_score(y_cv,predicted_cl))\n",
    "    "
   ]
  },
  {
   "cell_type": "code",
   "execution_count": 34,
   "id": "75346741-ad6d-4817-8a6f-66856bbc80b4",
   "metadata": {},
   "outputs": [
    {
     "data": {
      "image/png": "[encoded data removed]",
      "text/plain": [
       "<Figure size 640x480 with 1 Axes>"
      ]
     },
     "metadata": {},
     "output_type": "display_data"
    }
   ],
   "source": [
    "plt.plot(range(1,433,2),tr_err,label=\"training error\")\n",
    "plt.plot(range(1,433,2),cv_err,label=\"cv error\")\n",
    "plt.legend()\n",
    "plt.show()"
   ]
  },
  {
   "cell_type": "markdown",
   "id": "354fc293-2f96-4239-90b0-e96b8bd17dae",
   "metadata": {},
   "source": [
    "## Live Time "
   ]
  },
  {
   "cell_type": "code",
   "execution_count": 41,
   "id": "ae6a6058-1f97-4560-94b6-9433819a9cc9",
   "metadata": {},
   "outputs": [],
   "source": [
    "from datetime import datetime"
   ]
  },
  {
   "cell_type": "markdown",
   "id": "df385cf3-fb73-48f8-9c7a-af5ed5384229",
   "metadata": {},
   "source": [
    "## Face Detection Model"
   ]
  },
  {
   "cell_type": "code",
   "execution_count": 45,
   "id": "4e714614-1217-4671-9454-731ea142d629",
   "metadata": {
    "scrolled": true
   },
   "outputs": [],
   "source": [
    "vid = cv2.VideoCapture(0)\n",
    "while True:\n",
    "    bool,img=vid.read()\n",
    "    now = datetime.now()\n",
    "    \n",
    "    #print(img.shape)\n",
    "    cv2.rectangle(img,(260,150),(450,350),(0,0,255),1)\n",
    "    crop_img = img[150:350,260:450]\n",
    "\n",
    "\n",
    "    xq = cv2.resize(crop_img,(100,100)).flatten()\n",
    "    xq = xq.reshape((1,30000))\n",
    "    y_i = model.predict(xq)\n",
    "    cv2.putText(img,now.strftime(\"%H:%M:%S\"),(14,30),cv2.FONT_HERSHEY_COMPLEX,1,(0,0,255),5)\n",
    "    cv2.putText(img,\"Face Detection\",(14,90),cv2.FONT_HERSHEY_COMPLEX,1,(0,0,255),5)\n",
    "\n",
    "    if y_i[0]==0:\n",
    "        cv2.putText(img,\"aditya\",(50,50),cv2.FONT_HERSHEY_COMPLEX,1,(0,255,0),1)\n",
    "    \n",
    "        cv2.imshow(\"capture\",img)\n",
    "    elif y_i[0]==1:\n",
    "        cv2.putText(img,\"nikhil\",(50,50),cv2.FONT_HERSHEY_COMPLEX,1,(0,255,0),1)\n",
    "        cv2.imshow(\"capture\",img)\n",
    "    elif y_i[0]==2:\n",
    "        cv2.putText(img,\"sai\",(50,50),cv2.FONT_HERSHEY_COMPLEX,1,(0,255,0),1)\n",
    "        cv2.imshow(\"capture\",img)\n",
    "    \"\"\"elif y_i[0]==3:\n",
    "        cv2.putText(img,\"sai\",(50,50),cv2.FONT_HERSHEY_COMPLEX,1,(0,255,0),1)\n",
    "        cv2.imshow(\"capture\",img)\n",
    "    elif y_i[0]==4:\n",
    "        cv2.putText(img,\"varun\",(50,50),cv2.FONT_HERSHEY_COMPLEX,1,(0,255,0),1)\n",
    "        cv2.imshow(\"capture\",img)\n",
    "    elif y_i[0]==5:\n",
    "        cv2.putText(img,\"yaswanth\",(50,50),cv2.FONT_HERSHEY_COMPLEX,1,(0,255,0),1)\n",
    "        cv2.imshow(\"capture\",img)\"\"\"\n",
    "    \n",
    "    if cv2.waitKey(1)& 255 == ord('q'):\n",
    "        break\n",
    "cv2.destroyAllWindows()\n",
    "    "
   ]
  },
  {
   "cell_type": "markdown",
   "id": "023942a3-d896-4750-a9bb-721a7d4c6399",
   "metadata": {},
   "source": [
    "vid = cv2.VideoCapture(0)\n",
    "bol,img = vid.read()\n",
    "cv2.imshow(\"sap\",img)\n",
    "cv2.waitKey()\n",
    "cv2.destroyAllWindows()"
   ]
  },
  {
   "cell_type": "code",
   "execution_count": null,
   "id": "4c6b60ef-d119-4343-8fad-fdca0e7c8705",
   "metadata": {},
   "outputs": [],
   "source": []
  },
  {
   "cell_type": "code",
   "execution_count": null,
   "id": "145278c0-6a91-49b7-b7ae-2aff5beb0055",
   "metadata": {},
   "outputs": [],
   "source": []
  },
  {
   "cell_type": "code",
   "execution_count": null,
   "id": "58c1016d-4ada-42e8-aa37-c0bf036c4072",
   "metadata": {},
   "outputs": [],
   "source": []
  },
  {
   "cell_type": "code",
   "execution_count": null,
   "id": "deba0ba1-e858-4a17-8734-179a8866696a",
   "metadata": {},
   "outputs": [],
   "source": []
  },
  {
   "cell_type": "code",
   "execution_count": null,
   "id": "31540b40-78c3-4deb-a2ea-5a0dc171c33a",
   "metadata": {},
   "outputs": [],
   "source": []
  }
 ],
 "metadata": {
  "kernelspec": {
   "display_name": "Python 3 (ipykernel)",
   "language": "python",
   "name": "python3"
  },
  "language_info": {
   "codemirror_mode": {
    "name": "ipython",
    "version": 3
   },
   "file_extension": ".py",
   "mimetype": "text/x-python",
   "name": "python",
   "nbconvert_exporter": "python",
   "pygments_lexer": "ipython3",
   "version": "3.11.7"
  }
 },
 "nbformat": 4,
 "nbformat_minor": 5
}
