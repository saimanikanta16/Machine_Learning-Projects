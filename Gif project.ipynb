{
 "cells": [
  {
   "cell_type": "code",
   "execution_count": 2,
   "id": "c10ee163-9ac9-406d-8160-5e674cfe6542",
   "metadata": {},
   "outputs": [],
   "source": [
    "import cv2"
   ]
  },
  {
   "cell_type": "markdown",
   "id": "5d1ce83c-d940-4fc1-98f9-95139cbc2b70",
   "metadata": {},
   "source": [
    "## Free hand drawing"
   ]
  },
  {
   "cell_type": "markdown",
   "id": "0079834a-61c7-4f40-9cbc-14e2010c576e",
   "metadata": {},
   "source": [
    "### drawing target board"
   ]
  },
  {
   "cell_type": "code",
   "execution_count": 254,
   "id": "954767b9-f780-4f94-a364-ca40a06fb561",
   "metadata": {},
   "outputs": [
    {
     "name": "stdout",
     "output_type": "stream",
     "text": [
      "0 image saved\n",
      "1 image saved\n",
      "2 image saved\n"
     ]
    }
   ],
   "source": [
    "import cv2\n",
    "import numpy as np\n",
    "\n",
    "# Create a white canvas\n",
    "white_img = np.ones((800, 1000, 3), dtype=np.uint8) * 255\n",
    "\n",
    "# Define the callback function\n",
    "def f1(event, x, y, flags, param):\n",
    "    if event == 1:  # Left mouse button pressed\n",
    "        cv2.circle(white_img, (x, y), 140, (0, 165, 255), -1)\n",
    "        cv2.circle(white_img, (x, y), 110, (0, 0, 0), -1)\n",
    "\n",
    "    if event == 2:  # Right mouse button pressed\n",
    "        cv2.circle(white_img, (x, y), 80, (255, 0, 0), -1)\n",
    "        cv2.circle(white_img, (x, y), 50, (0, 0, 255), -1)\n",
    "        cv2.circle(white_img, (x, y), 20, (0, 255, 255), -1)# Draw a green circle\n",
    "\n",
    "# Set up the OpenCV window and mouse callback\n",
    "cv2.namedWindow(\"Canvas\")\n",
    "cv2.setMouseCallback(\"Canvas\", f1)\n",
    "c=0\n",
    "while True:\n",
    "    # Show the original canvas\n",
    "    cv2.imshow(\"Canvas\", white_img)\n",
    "    key = cv2.waitKey(1) & 0xFF\n",
    "\n",
    "    if key == ord('a'):  # Save the current canvas when 'a' is pressed\n",
    "        cv2.imwrite(r\"D:\\ML Files\\sai_room\\gif_loop\\{}.jpg\".format(c), white_img)\n",
    "        print(f\"{c} image saved\")\n",
    "        c+=1\n",
    "\n",
    "    if key == ord('q'):  # Quit when 'q' is pressed\n",
    "        break\n",
    "\n",
    "cv2.destroyAllWindows()\n"
   ]
  },
  {
   "cell_type": "markdown",
   "id": "0877ef8d-34ff-4d36-aa94-af39629fb932",
   "metadata": {},
   "source": [
    "### Drawing human"
   ]
  },
  {
   "cell_type": "code",
   "execution_count": 255,
   "id": "1ecbe3be-6c05-4991-bf66-ccd28842a8fb",
   "metadata": {},
   "outputs": [],
   "source": [
    "arr=cv2.imread(r\"D:\\ML Files\\sai_room\\gif_loop\\2.jpg\")"
   ]
  },
  {
   "cell_type": "code",
   "execution_count": 256,
   "id": "1b714a3a-e16b-4474-9f53-c8c32f14d547",
   "metadata": {},
   "outputs": [
    {
     "data": {
      "text/plain": [
       "(800, 1000, 3)"
      ]
     },
     "execution_count": 256,
     "metadata": {},
     "output_type": "execute_result"
    }
   ],
   "source": [
    "arr.shape"
   ]
  },
  {
   "cell_type": "code",
   "execution_count": 257,
   "id": "3a2e32b5-d17c-448c-acef-54842eadb600",
   "metadata": {},
   "outputs": [
    {
     "name": "stdout",
     "output_type": "stream",
     "text": [
      "3 image saved\n"
     ]
    }
   ],
   "source": [
    "# Variables to store line drawing state\n",
    "drawing = False  # True when drawing\n",
    "start_point = None  # Starting point of the line\n",
    "\n",
    "# Define the callback function\n",
    "def draw_line(event, x, y, flags, param):\n",
    "    global arr, drawing, start_point,end_point\n",
    "\n",
    "    if event == cv2.EVENT_RBUTTONDOWN:\n",
    "        temp_canvas = arr.copy()\n",
    "        cv2.circle(arr, (x, y), 50, (0, 0, 0), 5)\n",
    "        \n",
    "    if event == cv2.EVENT_LBUTTONDOWN:  # Left mouse button pressed\n",
    "        start_point = (x, y)  # Capture the starting point\n",
    "\n",
    "    elif event == cv2.EVENT_LBUTTONUP:  # Left mouse button released\n",
    "        end_point = (x, y)  # Capture the ending point\n",
    "        cv2.line(arr, start_point, end_point, (0, 0, 0), 2)  # Draw a red line\n",
    "        cv2.imshow(\"Canvas\", arr)\n",
    "        \n",
    "\n",
    "# Create a window and set the mouse callback\n",
    "cv2.namedWindow(\"Canvas\")\n",
    "cv2.setMouseCallback(\"Canvas\", draw_line)\n",
    "c=3\n",
    "while True:\n",
    "    # Show the original canvas\n",
    "    cv2.imshow(\"Canvas\", arr)\n",
    "    key = cv2.waitKey(1) & 0xFF\n",
    "\n",
    "    if key == ord('a'):  # Save the current canvas when 'a' is pressed\n",
    "        cv2.imwrite(r\"D:\\ML Files\\sai_room\\gif_loop\\{}.jpg\".format(c), arr)\n",
    "        print(f\"{c} image saved\")\n",
    "        c+=1\n",
    "\n",
    "    if key == ord('q'):  # Quit when 'q' is pressed\n",
    "        break\n",
    "\n",
    "cv2.destroyAllWindows()\n"
   ]
  },
  {
   "cell_type": "markdown",
   "id": "3230d45e-6ff4-4079-b688-cbc5c5a31985",
   "metadata": {},
   "source": [
    "### Arrowed Line"
   ]
  },
  {
   "cell_type": "code",
   "execution_count": 263,
   "id": "9d38c6c3-5600-451a-b5fa-083eeec0909a",
   "metadata": {},
   "outputs": [],
   "source": [
    "arr = cv2.imread(r\"D:\\ML Files\\sai_room\\gif_loop\\3.jpg\")"
   ]
  },
  {
   "cell_type": "code",
   "execution_count": 264,
   "id": "314b3ee0-267e-4cca-8791-8e714ca860fe",
   "metadata": {},
   "outputs": [
    {
     "name": "stdout",
     "output_type": "stream",
     "text": [
      "Image 5 saved.\n"
     ]
    }
   ],
   "source": [
    "import cv2\n",
    "import numpy as np\n",
    "\n",
    "# Create a blank canvas\n",
    "#arr = np.ones((800, 1000, 3), dtype=np.uint8) * 255  # White canvas\n",
    "drawing = False  # Initialize the drawing flag\n",
    "start_point = (0, 0)  # Initialize the starting point\n",
    "\n",
    "def draw_line(event, x, y, flags, param):\n",
    "    global arr, drawing, start_point\n",
    "\n",
    "    if event == cv2.EVENT_LBUTTONDOWN:  # Left mouse button pressed\n",
    "        drawing = True\n",
    "        start_point = (x, y)  # Set the starting point of the line\n",
    "\n",
    "    elif event == cv2.EVENT_MOUSEMOVE:  # Mouse movement\n",
    "        if drawing:\n",
    "            # Create a temporary canvas to show the current line\n",
    "            temp_canvas = arr.copy()\n",
    "            cv2.arrowedLine(temp_canvas, start_point, (x, y), (0, 0, 255), 2, cv2.LINE_AA)  # Draw line in red\n",
    "            cv2.imshow(\"Canvas\", temp_canvas)\n",
    "\n",
    "    elif event == cv2.EVENT_LBUTTONUP:  # Left mouse button released\n",
    "        drawing = False\n",
    "        cv2.arrowedLine(arr, start_point, (x, y), (0, 0, 255), 2, cv2.LINE_AA)\n",
    "\n",
    "# Create a window and set the mouse callback\n",
    "cv2.namedWindow(\"Canvas\")\n",
    "cv2.setMouseCallback(\"Canvas\", draw_line)\n",
    "\n",
    "c = 5\n",
    "while True:\n",
    "    # Show the original canvas\n",
    "    cv2.imshow(\"Canvas\", arr)\n",
    "    key = cv2.waitKey(1) & 0xFF\n",
    "\n",
    "    if key == ord('a'):  # Save the current canvas when 'a' is pressed\n",
    "        cv2.imwrite(r\"D:\\ML Files\\sai_room\\gif_loop\\{}.jpg\".format(c), arr)\n",
    "        print(f\"Image {c} saved.\")\n",
    "        c += 1\n",
    "\n",
    "    if key == ord('q'):  # Quit when 'q' is pressed\n",
    "        break\n",
    "\n",
    "cv2.destroyAllWindows()\n"
   ]
  },
  {
   "cell_type": "markdown",
   "id": "122d07e2-343b-49e6-9d64-bef6ab7d8b0a",
   "metadata": {},
   "source": [
    "### Text Code"
   ]
  },
  {
   "cell_type": "code",
   "execution_count": 261,
   "id": "3acd03ad-2058-4608-92a6-82e8144c5429",
   "metadata": {},
   "outputs": [],
   "source": [
    "arr = cv2.imread(r\"D:\\ML Files\\sai_room\\gif_loop\\3.jpg\")"
   ]
  },
  {
   "cell_type": "code",
   "execution_count": 262,
   "id": "394ed12e-28fb-46d2-bec4-a646a2421902",
   "metadata": {},
   "outputs": [
    {
     "name": "stdout",
     "output_type": "stream",
     "text": [
      "Image 4 saved.\n"
     ]
    }
   ],
   "source": [
    "import cv2\n",
    "def draw_level(event,x,y,flags,param):\n",
    "    global arr\n",
    "    if event == cv2.EVENT_LBUTTONDOWN:\n",
    "        cv2.putText(arr,\"I have a Target\",(300,620),cv2.FONT_HERSHEY_DUPLEX,1,(255,0,0),2)\n",
    "        cv2.imshow(\"canvas\",arr)\n",
    "        \n",
    "# Create a window and set the mouse callback\n",
    "cv2.namedWindow(\"Canvas\")\n",
    "cv2.setMouseCallback(\"Canvas\", draw_level)\n",
    "\n",
    "c = 4\n",
    "while True:\n",
    "    # Show the original canvas\n",
    "    cv2.imshow(\"Canvas\", arr)\n",
    "    key = cv2.waitKey(1) & 0xFF\n",
    "\n",
    "    if key == ord('a'):  # Save the current canvas when 'a' is pressed\n",
    "        cv2.imwrite(r\"D:\\ML Files\\sai_room\\gif_loop\\{}.jpg\".format(c), arr)\n",
    "        print(f\"Image {c} saved.\")\n",
    "        c += 1\n",
    "\n",
    "    if key == ord('q'):  # Quit when 'q' is pressed\n",
    "        break\n",
    "\n",
    "cv2.destroyAllWindows()\n"
   ]
  },
  {
   "cell_type": "markdown",
   "id": "d5388433-19e5-4140-b0bc-02c5983ec7b2",
   "metadata": {},
   "source": [
    "### Vision Step"
   ]
  },
  {
   "cell_type": "code",
   "execution_count": 2,
   "id": "90f6a29f-66cd-4442-8f19-822703699f19",
   "metadata": {},
   "outputs": [],
   "source": [
    "import cv2\n",
    "import numpy as np\n"
   ]
  },
  {
   "cell_type": "code",
   "execution_count": 216,
   "id": "dbbd9f53-f0b4-43a8-8ecf-c94d486d4c3e",
   "metadata": {},
   "outputs": [],
   "source": [
    "arr = cv2.imread(r\"D:\\ML Files\\sai_room\\gif_loop\\39.jpg\")"
   ]
  },
  {
   "cell_type": "code",
   "execution_count": 217,
   "id": "6f7d65ca-8c8c-4dc5-a19f-2c4526aae05b",
   "metadata": {},
   "outputs": [
    {
     "data": {
      "text/plain": [
       "(800, 1000, 3)"
      ]
     },
     "execution_count": 217,
     "metadata": {},
     "output_type": "execute_result"
    }
   ],
   "source": [
    "arr.shape"
   ]
  },
  {
   "cell_type": "code",
   "execution_count": 218,
   "id": "20621fd8-e57d-4e5f-9fff-e8e91c0716e7",
   "metadata": {},
   "outputs": [
    {
     "name": "stdout",
     "output_type": "stream",
     "text": [
      "50 image saved\n"
     ]
    }
   ],
   "source": [
    "import cv2\n",
    "def draw_level(event,x,y,flags,param):\n",
    "    global arr\n",
    "    if event == cv2.EVENT_LBUTTONDOWN:\n",
    "        cv2.rectangle(arr,(620,420),(780,490),(0,255,0),-1)\n",
    "        cv2.imshow(\"Canvas\",arr)\n",
    "    elif event == cv2.EVENT_RBUTTONDOWN:\n",
    "        cv2.putText(arr,\"Hard Work\",(620,465),cv2.FONT_HERSHEY_SIMPLEX,1,(0,0,0),2)\n",
    "        cv2.imshow(\"Canvas\",arr)\n",
    "        \n",
    "        \n",
    "# Create a window and set the mouse callback\n",
    "cv2.namedWindow(\"Canvas\")\n",
    "cv2.setMouseCallback(\"Canvas\", draw_level)\n",
    "c=50\n",
    "while True:\n",
    "    # Show the original canvas\n",
    "    cv2.imshow(\"Canvas\", arr)\n",
    "    key = cv2.waitKey(1) & 0xFF\n",
    "\n",
    "    if key == ord('a'):  # Save the current canvas when 'a' is pressed\n",
    "        cv2.imwrite(r\"D:\\ML Files\\sai_room\\gif_loop\\{}.jpg\".format(c), arr)\n",
    "        print(f\"{c} image saved\")\n",
    "        c+=1\n",
    "\n",
    "    if key == ord('q'):  # Quit when 'q' is pressed\n",
    "        break\n",
    "\n",
    "cv2.destroyAllWindows()\n"
   ]
  },
  {
   "cell_type": "markdown",
   "id": "a61de93d-61c7-42cc-a245-49f51aa35f4b",
   "metadata": {},
   "source": [
    "### target-1 body and arrow"
   ]
  },
  {
   "cell_type": "code",
   "execution_count": 35,
   "id": "19eeaa54-4c63-4d98-8f0a-1b277837304a",
   "metadata": {},
   "outputs": [],
   "source": [
    "arr = cv2.imread(r\"D:\\ML Files\\sai_room\\gif_loop\\13.jpg\")"
   ]
  },
  {
   "cell_type": "code",
   "execution_count": 36,
   "id": "e59d75a1-092b-4f93-bc13-b5e03ee9fd55",
   "metadata": {},
   "outputs": [
    {
     "name": "stdout",
     "output_type": "stream",
     "text": [
      "saved\n"
     ]
    }
   ],
   "source": [
    "# Variables to store line drawing state\n",
    "drawing = False  # True when drawing\n",
    "start_point = None  # Starting point of the line\n",
    "\n",
    "# Define the callback function\n",
    "def draw_line(event, x, y, flags, param):\n",
    "    global arr, drawing, start_point,end_point\n",
    "\n",
    "    if event == cv2.EVENT_RBUTTONDOWN:\n",
    "        temp_canvas = arr.copy()\n",
    "        cv2.circle(arr, (x, y), 50, (0, 0, 0), 5)\n",
    "        \n",
    "    if event == cv2.EVENT_LBUTTONDOWN:  # Left mouse button pressed\n",
    "        start_point = (x, y)  # Capture the starting point\n",
    "\n",
    "    elif event == cv2.EVENT_LBUTTONUP:  # Left mouse button released\n",
    "        end_point = (x, y)  # Capture the ending point\n",
    "        cv2.line(arr, start_point, end_point, (0, 0, 0), 2)  # Draw a red line\n",
    "        cv2.imshow(\"Canvas\", arr)\n",
    "        \n",
    "\n",
    "# Create a window and set the mouse callback\n",
    "cv2.namedWindow(\"Canvas\")\n",
    "cv2.setMouseCallback(\"Canvas\", draw_line)\n",
    "c=0\n",
    "while True:\n",
    "    # Show the original canvas\n",
    "    cv2.imshow(\"Canvas\", arr)\n",
    "    key = cv2.waitKey(1) & 0xFF\n",
    "    if cv2.waitKey(1) & 255 == ord('a'):\n",
    "        cv2.imwrite(r\"D:\\ML Files\\sai_room\\gif_loop\\{}.jpg\".format(c),arr)\n",
    "        print(\"saved\")\n",
    "    if cv2.waitKey(1) & 255 == ord('q'):  # Quit when 'q' is pressed\n",
    "        break\n",
    "    c+=1\n",
    "    if c==0:\n",
    "        break\n",
    "\n",
    "cv2.destroyAllWindows()"
   ]
  },
  {
   "cell_type": "code",
   "execution_count": null,
   "id": "5445f200-8f19-4ef7-9949-64f5d4f1ad7e",
   "metadata": {},
   "outputs": [],
   "source": []
  },
  {
   "cell_type": "code",
   "execution_count": null,
   "id": "cbc3b3a3-19b9-41f0-93af-b276f8f513d2",
   "metadata": {},
   "outputs": [],
   "source": []
  },
  {
   "cell_type": "code",
   "execution_count": null,
   "id": "2d56852e-dc61-43e1-9462-00274dcdb32a",
   "metadata": {},
   "outputs": [],
   "source": []
  },
  {
   "cell_type": "code",
   "execution_count": null,
   "id": "16d08ca8-774c-474f-ad6f-44ca480b643c",
   "metadata": {},
   "outputs": [],
   "source": []
  },
  {
   "cell_type": "markdown",
   "id": "d934d730-9e3d-47a9-86c9-1d5f474f952e",
   "metadata": {},
   "source": [
    "## coordinates help"
   ]
  },
  {
   "cell_type": "code",
   "execution_count": 258,
   "id": "0e10908a-cdc1-431f-a0b9-349916e3eb09",
   "metadata": {},
   "outputs": [],
   "source": [
    "import cv2\n",
    "import numpy as np\n",
    "\n",
    "# Create a blank canvas\n",
    "canvas = np.ones((800, 1000, 3), dtype=np.uint8) * 255  # White canvas\n",
    "\n",
    "# Define the callback function to display coordinates\n",
    "def show_coordinates(event, x, y, flags, param):\n",
    "    global canvas  # Access the canvas variable\n",
    "\n",
    "    if event == cv2.EVENT_MOUSEMOVE:  # Mouse move event\n",
    "        # Create a copy of the canvas to avoid permanent changes\n",
    "        temp_canvas = canvas.copy()\n",
    "\n",
    "        # Display the coordinates on the window\n",
    "        text = f\"Coordinates: ({x}, {y})\"\n",
    "        cv2.putText(temp_canvas, text, (10, 30), cv2.FONT_HERSHEY_SIMPLEX, 1, (0, 0, 0), 2)\n",
    "\n",
    "        # Show the updated canvas with coordinates\n",
    "        cv2.imshow(\"Canvas\", temp_canvas)\n",
    "\n",
    "    if event == cv2.EVENT_LBUTTONDOWN:  # Left mouse button click\n",
    "        # Draw a rectangle at the clicked position\n",
    "        cv2.rectangle(canvas, (x, y), (x + 50, y + 30), (0, 0, 255), -1)  # Red rectangle\n",
    "\n",
    "# Create a window and set the mouse callback\n",
    "cv2.namedWindow(\"Canvas\")\n",
    "cv2.setMouseCallback(\"Canvas\", show_coordinates)\n",
    "\n",
    "while True:\n",
    "    # Show the original canvas\n",
    "    cv2.imshow(\"Canvas\", canvas)\n",
    "\n",
    "    key = cv2.waitKey(1) & 0xFF\n",
    "    if key == ord('q'):  # Quit when 'q' is pressed\n",
    "        break\n",
    "\n",
    "cv2.destroyAllWindows()\n"
   ]
  },
  {
   "cell_type": "markdown",
   "id": "0097fae6-5a37-45bd-8ac9-df8b1182280e",
   "metadata": {},
   "source": [
    "### line help"
   ]
  },
  {
   "cell_type": "code",
   "execution_count": 106,
   "id": "8630ad90-7e15-4b47-838f-a04643e31c9f",
   "metadata": {},
   "outputs": [],
   "source": [
    "import cv2\n",
    "import numpy as np\n",
    "\n",
    "# Create a blank canvas\n",
    "canvas = np.ones((800, 1000, 3), dtype=np.uint8) * 255  # White canvas\n",
    "\n",
    "# Variables to store line drawing state\n",
    "drawing = False  # True when drawing\n",
    "start_point = None  # Starting point of the line\n",
    "\n",
    "# Define the callback function\n",
    "def draw_line(event, x, y, flags, param):\n",
    "    global canvas, drawing, start_point\n",
    "\n",
    "    if event == cv2.EVENT_LBUTTONDOWN:  # Left mouse button pressed\n",
    "        drawing = True\n",
    "        start_point = (x, y)  # Set the starting point of the line\n",
    "\n",
    "    elif event == cv2.EVENT_MOUSEMOVE:  # Mouse movement\n",
    "        if drawing:\n",
    "            # Create a temporary canvas to show the current line\n",
    "            temp_canvas = canvas.copy()\n",
    "            cv2.line(temp_canvas, start_point, (x, y), (0, 0, 255), 2)  # Draw line in red\n",
    "            cv2.imshow(\"Canvas\", temp_canvas)\n",
    "\n",
    "    elif event == cv2.EVENT_LBUTTONUP:  # Left mouse button released\n",
    "        drawing = False\n",
    "        cv2.line(canvas, start_point, (x, y), (0, 0, 255), 2)  # Finalize the line\n",
    "    elif event == cv2.EVENT_RBUTTONDOWN:\n",
    "        cv2.circle(canvas, (x, y), 50, (0, 0, 0), 5)\n",
    "        \n",
    "\n",
    "# Create a window and set the mouse callback\n",
    "cv2.namedWindow(\"Canvas\")\n",
    "cv2.setMouseCallback(\"Canvas\", draw_line)\n",
    "\n",
    "while True:\n",
    "    # Show the original canvas\n",
    "    cv2.imshow(\"Canvas\", canvas)\n",
    "\n",
    "    key = cv2.waitKey(1) & 0xFF\n",
    "    if key == ord('q'):  # Quit when 'q' is pressed\n",
    "        break\n",
    "\n",
    "cv2.destroyAllWindows()\n"
   ]
  },
  {
   "cell_type": "markdown",
   "id": "ab3c273b-c63f-4b93-9893-ba9bf32db2a6",
   "metadata": {},
   "source": [
    "### Arrow line Help"
   ]
  },
  {
   "cell_type": "code",
   "execution_count": 11,
   "id": "6ea7e33c-f655-4298-9bf8-a8fc3c65b0bb",
   "metadata": {},
   "outputs": [],
   "source": [
    "import cv2\n",
    "import numpy as np\n",
    "\n",
    "# Create a blank canvas\n",
    "#canvas = np.ones((800, 1000, 3), dtype=np.uint8) * 255\n",
    "def draw_line(event, x, y, flags, param):\n",
    "    global white_img, drawing, start_point\n",
    "\n",
    "    if event == cv2.EVENT_LBUTTONDOWN:  # Left mouse button pressed\n",
    "        drawing = True\n",
    "        start_point = (x, y)  # Set the starting point of the line\n",
    "\n",
    "    elif event == cv2.EVENT_MOUSEMOVE:  # Mouse movement\n",
    "        if drawing:\n",
    "            # Create a temporary canvas to show the current line\n",
    "            temp_canvas = white_img.copy()\n",
    "            cv2.arrowedLine(temp_canvas, start_point, (x, y), (0, 0, 255), 2,cv2.LINE_AA)  # Draw line in red\n",
    "            cv2.imshow(\"Canvas\", temp_canvas)\n",
    "\n",
    "    elif event == cv2.EVENT_LBUTTONUP:  # Left mouse button released\n",
    "        drawing = False\n",
    "        cv2.arrowedLine(white_img, start_point, (x, y), (0, 0, 255), 2)\n",
    "# Create a window and set the mouse callback\n",
    "cv2.namedWindow(\"Canvas\")\n",
    "cv2.setMouseCallback(\"Canvas\", draw_line)\n",
    "\n",
    "while True:\n",
    "    # Show the original canvas\n",
    "    cv2.imshow(\"Canvas\", white_img)\n",
    "\n",
    "    key = cv2.waitKey(1) & 0xFF\n",
    "    if key == ord('q'):  # Quit when 'q' is pressed\n",
    "        break\n",
    "\n",
    "cv2.destroyAllWindows()"
   ]
  },
  {
   "cell_type": "markdown",
   "id": "5b9293ce-66fe-4d81-ae72-25640640023b",
   "metadata": {},
   "source": [
    "### Body line help"
   ]
  },
  {
   "cell_type": "code",
   "execution_count": 13,
   "id": "5bb20c4b-b125-4b27-a0d3-78ad2b01882d",
   "metadata": {},
   "outputs": [],
   "source": [
    "import cv2\n",
    "import numpy as np\n",
    "\n",
    "# Create a blank canvas\n",
    "canvas = np.ones((800, 1000, 3), dtype=np.uint8) * 255  # White canvas\n",
    "\n",
    "# Variables to store points\n",
    "start_point = None\n",
    "end_point = None\n",
    "\n",
    "# Define the callback function\n",
    "def draw_line(event, x, y, flags, param):\n",
    "    global canvas, start_point, end_point\n",
    "\n",
    "    if event == cv2.EVENT_LBUTTONDOWN:  # Left mouse button pressed\n",
    "        start_point = (x, y)  # Capture the starting point\n",
    "\n",
    "    elif event == cv2.EVENT_LBUTTONUP:  # Left mouse button released\n",
    "        end_point = (x, y)  # Capture the ending point\n",
    "        cv2.line(canvas, start_point, end_point, (0, 0, 255), 2)  # Draw a red line\n",
    "        cv2.imshow(\"Canvas\", canvas)  # Update the canvas\n",
    "\n",
    "# Create a window and set the mouse callback\n",
    "cv2.namedWindow(\"Canvas\")\n",
    "cv2.setMouseCallback(\"Canvas\", draw_line)\n",
    "\n",
    "while True:\n",
    "    # Show the canvas\n",
    "    cv2.imshow(\"Canvas\", canvas)\n",
    "\n",
    "    key = cv2.waitKey(1) & 0xFF\n",
    "    if key == ord('q'):  # Quit when 'q' is pressed\n",
    "        break\n",
    "\n",
    "cv2.destroyAllWindows()\n"
   ]
  },
  {
   "cell_type": "markdown",
   "id": "6a6accc4-a499-4fef-8a38-7d473cbe6065",
   "metadata": {},
   "source": [
    "## Making gif using collected frames"
   ]
  },
  {
   "cell_type": "code",
   "execution_count": 3,
   "id": "84a46fad-2ac2-42b1-a497-c312fc04235e",
   "metadata": {},
   "outputs": [],
   "source": [
    "import cv2\n",
    "for c in range(66):\n",
    "    \n",
    "    array = cv2.imread(\"D:\\ML Files\\gif_frames\\gif_loop\\{}.jpg\".format(c))\n",
    "    cv2.imshow(\"video loop\",array)\n",
    "    if cv2.waitKey(450)& 255 == ord('q'):\n",
    "        break\n",
    "cv2.destroyAllWindows()"
   ]
  },
  {
   "cell_type": "markdown",
   "id": "95d053a0-fae1-4189-bba0-8bc5d5a4a5b0",
   "metadata": {},
   "source": [
    "![image.png](attachment:aa3449ee-a968-4a99-874c-f687741b21b2.png)"
   ]
  },
  {
   "cell_type": "code",
   "execution_count": null,
   "id": "cd85e1b0-e7fc-431b-b14f-f8c6e0fd9715",
   "metadata": {},
   "outputs": [],
   "source": []
  }
 ],
 "metadata": {
  "kernelspec": {
   "display_name": "Python 3 (ipykernel)",
   "language": "python",
   "name": "python3"
  },
  "language_info": {
   "codemirror_mode": {
    "name": "ipython",
    "version": 3
   },
   "file_extension": ".py",
   "mimetype": "text/x-python",
   "name": "python",
   "nbconvert_exporter": "python",
   "pygments_lexer": "ipython3",
   "version": "3.11.7"
  }
 },
 "nbformat": 4,
 "nbformat_minor": 5
}
